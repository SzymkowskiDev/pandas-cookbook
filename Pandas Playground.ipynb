{
 "cells": [
  {
   "cell_type": "code",
   "execution_count": 1,
   "id": "4d939c94",
   "metadata": {},
   "outputs": [],
   "source": [
    "import pandas as pd"
   ]
  },
  {
   "cell_type": "code",
   "execution_count": 4,
   "id": "1db6b6c8",
   "metadata": {},
   "outputs": [
    {
     "name": "stdout",
     "output_type": "stream",
     "text": [
      "0    1\n",
      "1    2\n",
      "2    3\n",
      "dtype: int64\n",
      "a    1\n",
      "b    2\n",
      "c    3\n",
      "dtype: int64\n",
      "a    1\n",
      "b    2\n",
      "c    3\n",
      "dtype: int64\n"
     ]
    }
   ],
   "source": [
    "# Creating data type: Series\n",
    "\n",
    "# providing a list as data argument, default labels\n",
    "my_series_list = pd.Series([1, 2, 3])\n",
    "print(my_series_list) # default labels are integers 0, 1, 2, ...\n",
    "\n",
    "# providing a list as data argument, custom labels\n",
    "my_series_list_custom = pd.Series([1, 2, 3], index = [\"a\", \"b\", \"c\"])\n",
    "print(my_series_list_custom) # to make custom labels provide a second \"index argument\"\n",
    "\n",
    "# providing a dictionary as data argument\n",
    "my_series_dict = pd.Series({\"a\": 1, \"b\": 2, \"c\":3})\n",
    "print(my_series_dict) # keys become labels\n"
   ]
  },
  {
   "cell_type": "code",
   "execution_count": 18,
   "id": "4037a590",
   "metadata": {},
   "outputs": [
    {
     "name": "stdout",
     "output_type": "stream",
     "text": [
      "   0\n",
      "0  1\n",
      "1  2\n",
      "2  3\n",
      "   a  b\n",
      "0  1  1\n",
      "1  2  2\n",
      "2  3  3\n",
      "   a  b  c\n",
      "0  1  3  5\n",
      "1  2  4  6\n",
      "            a  b  c\n",
      "first_row   1  3  5\n",
      "second_row  2  4  6\n",
      "   a  b\n",
      "0  1  3\n",
      "1  2  4\n",
      "   new_a  new_b\n",
      "0      1      3\n",
      "1      2      4\n",
      "   newest_a  newest_b\n",
      "0         1         3\n",
      "1         2         4\n"
     ]
    }
   ],
   "source": [
    "# Creating data type: DataFrame\n",
    "\n",
    "# data frame from a series\n",
    "my_df_series = pd.DataFrame(my_series_list)\n",
    "print(my_df_series) # contains only one column\n",
    "\n",
    "# data frame from a dictionary of series\n",
    "my_df_series_2 = pd.DataFrame({\"a\": my_series_list, \"b\": my_series_list})\n",
    "print(my_df_series_2)\n",
    "\n",
    "# data frame from a dictionary\n",
    "my_df_dict = pd.DataFrame({\"a\": [1, 2], \"b\": [3, 4], \"c\":[5, 6]})\n",
    "print(my_df_dict)\n",
    "\n",
    "# custom row labels with the \"index\" argument\n",
    "my_df_labels = pd.DataFrame({\"a\": [1, 2], \"b\": [3, 4], \"c\":[5, 6]}, index = [\"first_row\", \"second_row\"])\n",
    "print(my_df_labels)\n",
    "\n",
    "# selecting columns with the \"colums\" argument\n",
    "my_df_columns = pd.DataFrame({\"a\": [1, 2], \"b\": [3, 4], \"c\":[5, 6]}, columns = [\"a\", \"b\"])\n",
    "print(my_df_columns)\n",
    "\n",
    "# renaming columns with the \"rename()\" method\n",
    "my_df_columns.rename(columns = {'a':'new_a', 'b':'new_b'}, inplace = True)\n",
    "print(my_df_columns)\n",
    "\n",
    "# renaming columns with the \"columns()\" attribute\n",
    "my_df_columns.columns = [\"newest_a\", \"newest_b\"]\n",
    "print(my_df_columns)\n"
   ]
  },
  {
   "cell_type": "code",
   "execution_count": 23,
   "id": "d64106ce",
   "metadata": {},
   "outputs": [
    {
     "name": "stdout",
     "output_type": "stream",
     "text": [
      "   A  B\n",
      "0  A  B\n",
      "1  1  a\n",
      "2  2  b\n",
      "3  3  c\n",
      "4  4  d\n",
      "5  5  e\n"
     ]
    }
   ],
   "source": [
    "# Loading files into a DataFrame: CSV\n",
    "\n",
    "my_csv = pd.read_csv(\"my_file.csv\", names = [\"A\", \"B\"])\n",
    "print(my_csv) # The parameter \"names\" is optional and used to specify which columns to load from the file\n"
   ]
  },
  {
   "cell_type": "code",
   "execution_count": 25,
   "id": "e5e30970",
   "metadata": {},
   "outputs": [
    {
     "name": "stdout",
     "output_type": "stream",
     "text": [
      "   Column_A Column_B\n",
      "0         1        a\n",
      "1         2        b\n",
      "2         3        c\n"
     ]
    }
   ],
   "source": [
    "# Loading files into a DataFrame: JSON\n",
    "\n",
    "my_json = pd.read_json(\"my_json.json\")\n",
    "print(my_json)\n"
   ]
  },
  {
   "cell_type": "code",
   "execution_count": null,
   "id": "f915caa4",
   "metadata": {},
   "outputs": [],
   "source": []
  }
 ],
 "metadata": {
  "kernelspec": {
   "display_name": "Python 3 (ipykernel)",
   "language": "python",
   "name": "python3"
  },
  "language_info": {
   "codemirror_mode": {
    "name": "ipython",
    "version": 3
   },
   "file_extension": ".py",
   "mimetype": "text/x-python",
   "name": "python",
   "nbconvert_exporter": "python",
   "pygments_lexer": "ipython3",
   "version": "3.9.12"
  }
 },
 "nbformat": 4,
 "nbformat_minor": 5
}
