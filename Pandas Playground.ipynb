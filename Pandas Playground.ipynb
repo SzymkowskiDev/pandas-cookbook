{
 "cells": [
  {
   "cell_type": "code",
   "execution_count": 1,
   "id": "4d939c94",
   "metadata": {},
   "outputs": [],
   "source": [
    "import pandas as pd"
   ]
  },
  {
   "cell_type": "code",
   "execution_count": 4,
   "id": "586bf111",
   "metadata": {},
   "outputs": [
    {
     "name": "stdout",
     "output_type": "stream",
     "text": [
      "0    1\n",
      "1    2\n",
      "2    3\n",
      "dtype: int64\n",
      "a    1\n",
      "b    2\n",
      "c    3\n",
      "dtype: int64\n",
      "a    1\n",
      "b    2\n",
      "c    3\n",
      "dtype: int64\n"
     ]
    }
   ],
   "source": [
    "# Creating data type: Series\n",
    "\n",
    "# providing a list as data argument, default labels\n",
    "my_series_list = pd.Series([1, 2, 3])\n",
    "print(my_series_list) # default labels are integers 0, 1, 2, ...\n",
    "\n",
    "# providing a list as data argument, custom labels\n",
    "my_series_list_custom = pd.Series([1, 2, 3], index = [\"a\", \"b\", \"c\"])\n",
    "print(my_series_list_custom) # to make custom labels provide a second \"index argument\"\n",
    "\n",
    "# providing a dictionary as data argument\n",
    "my_series_dict = pd.Series({\"a\": 1, \"b\": 2, \"c\":3})\n",
    "print(my_series_dict) # keys become labels\n"
   ]
  },
  {
   "cell_type": "code",
   "execution_count": 18,
   "id": "14995bea",
   "metadata": {},
   "outputs": [
    {
     "name": "stdout",
     "output_type": "stream",
     "text": [
      "   0\n",
      "0  1\n",
      "1  2\n",
      "2  3\n",
      "   a  b\n",
      "0  1  1\n",
      "1  2  2\n",
      "2  3  3\n",
      "   a  b  c\n",
      "0  1  3  5\n",
      "1  2  4  6\n",
      "            a  b  c\n",
      "first_row   1  3  5\n",
      "second_row  2  4  6\n",
      "   a  b\n",
      "0  1  3\n",
      "1  2  4\n",
      "   new_a  new_b\n",
      "0      1      3\n",
      "1      2      4\n",
      "   newest_a  newest_b\n",
      "0         1         3\n",
      "1         2         4\n"
     ]
    }
   ],
   "source": [
    "# Creating data type: DataFrame\n",
    "\n",
    "# data frame from a series\n",
    "my_df_series = pd.DataFrame(my_series_list)\n",
    "print(my_df_series) # contains only one column\n",
    "\n",
    "# data frame from a dictionary of series\n",
    "my_df_series_2 = pd.DataFrame({\"a\": my_series_list, \"b\": my_series_list})\n",
    "print(my_df_series_2)\n",
    "\n",
    "# data frame from a dictionary\n",
    "my_df_dict = pd.DataFrame({\"a\": [1, 2], \"b\": [3, 4], \"c\":[5, 6]})\n",
    "print(my_df_dict)\n",
    "\n",
    "# custom row labels with the \"index\" argument\n",
    "my_df_labels = pd.DataFrame({\"a\": [1, 2], \"b\": [3, 4], \"c\":[5, 6]}, index = [\"first_row\", \"second_row\"])\n",
    "print(my_df_labels)\n",
    "\n",
    "# selecting columns with the \"colums\" argument\n",
    "my_df_columns = pd.DataFrame({\"a\": [1, 2], \"b\": [3, 4], \"c\":[5, 6]}, columns = [\"a\", \"b\"])\n",
    "print(my_df_columns)\n",
    "\n",
    "# renaming columns with the \"rename()\" method\n",
    "my_df_columns.rename(columns = {'a':'new_a', 'b':'new_b'}, inplace = True)\n",
    "print(my_df_columns)\n",
    "\n",
    "# renaming columns with the \"columns()\" attribute\n",
    "my_df_columns.columns = [\"newest_a\", \"newest_b\"]\n",
    "print(my_df_columns)\n"
   ]
  },
  {
   "cell_type": "code",
   "execution_count": 23,
   "id": "77728ba9",
   "metadata": {},
   "outputs": [
    {
     "name": "stdout",
     "output_type": "stream",
     "text": [
      "   A  B\n",
      "0  A  B\n",
      "1  1  a\n",
      "2  2  b\n",
      "3  3  c\n",
      "4  4  d\n",
      "5  5  e\n"
     ]
    }
   ],
   "source": [
    "# Loading files into a DataFrame: CSV\n",
    "\n",
    "my_csv = pd.read_csv(\"my_file.csv\", names = [\"A\", \"B\"])\n",
    "print(my_csv) # The parameter \"names\" is optional and used to specify which columns to load from the file\n"
   ]
  },
  {
   "cell_type": "code",
   "execution_count": 25,
   "id": "72591ee9",
   "metadata": {},
   "outputs": [
    {
     "name": "stdout",
     "output_type": "stream",
     "text": [
      "   Column_A Column_B\n",
      "0         1        a\n",
      "1         2        b\n",
      "2         3        c\n"
     ]
    }
   ],
   "source": [
    "# Loading files into a DataFrame: JSON\n",
    "\n",
    "my_json = pd.read_json(\"my_json.json\")\n",
    "print(my_json)\n"
   ]
  },
  {
   "cell_type": "code",
   "execution_count": 46,
   "id": "a0a7320f",
   "metadata": {},
   "outputs": [
    {
     "name": "stdout",
     "output_type": "stream",
     "text": [
      "a    100\n",
      "b      2\n",
      "c      3\n",
      "dtype: int64\n",
      "2\n",
      "3\n",
      "a    100\n",
      "b      2\n",
      "c      3\n",
      "dtype: int64\n",
      "a    100\n",
      "b      2\n",
      "dtype: int64\n",
      "b    2\n",
      "c    3\n",
      "dtype: int64\n",
      "a    100\n",
      "b      2\n",
      "dtype: int64\n",
      "a    100\n",
      "dtype: int64\n",
      "b    2\n",
      "c    3\n",
      "dtype: int64\n",
      "a    100\n",
      "b      2\n",
      "c      3\n",
      "dtype: int64\n"
     ]
    }
   ],
   "source": [
    "# Accessing values in a Series\n",
    "print(my_series_list_custom)\n",
    "\n",
    "# You can access values by their label names\n",
    "x = my_series_list_custom[\"b\"]\n",
    "print(x)\n",
    "\n",
    "# Or you can access values by their index position\n",
    "y = my_series_list_custom[2]\n",
    "print(y)\n",
    "\n",
    "# You can use the square brackets notation to set values\n",
    "my_series_list_custom[0] = 100\n",
    "print(my_series_list_custom)\n",
    "\n",
    "# You can use the semicolon inside the square brackets to select ranges of values\n",
    "z = my_series_list_custom[0:2]\n",
    "print(z)\n",
    "\n",
    "# This is what will happen if you won't supply the end index\n",
    "o = my_series_list_custom[1:]\n",
    "print(o) # [2, 3]\n",
    "\n",
    "# This is what will happen if you won't supply the start index\n",
    "e = my_series_list_custom[:2]\n",
    "print(e) # [100,2]\n",
    "\n",
    "# Using logic inside the sqare brackets notation\n",
    "b = my_series_list_custom[my_series_list_custom > 50]\n",
    "print(b) # 100\n",
    "\n",
    "w = my_series_list_custom[my_series_list_custom  != 100]\n",
    "print(w) # [2, 3]\n",
    "\n",
    "a = my_series_list_custom[(my_series_list_custom  != 100) | (my_series_list_custom != 2)]\n",
    "print(a) # [2, 3]"
   ]
  },
  {
   "cell_type": "code",
   "execution_count": 122,
   "id": "4fe42e34",
   "metadata": {},
   "outputs": [
    {
     "name": "stdout",
     "output_type": "stream",
     "text": [
      "0    1\n",
      "1    2\n",
      "2    3\n",
      "Name: col_a, dtype: int64\n",
      "   col_a col_b\n",
      "0      1     a\n",
      "1      2     b\n",
      "2      3     c\n",
      "col_a    1\n",
      "col_b    a\n",
      "Name: 0, dtype: object\n",
      "col_a    2\n",
      "col_b    b\n",
      "Name: 1, dtype: object\n",
      "col_a    3\n",
      "col_b    c\n",
      "Name: 2, dtype: object\n",
      "   col_a col_b\n",
      "0      1     a\n",
      "1    200   200\n",
      "2      3     c\n",
      "   col_a col_b\n",
      "1    200   200\n",
      "2      3     c\n",
      "            a  b  c\n",
      "first_row   1  3  5\n",
      "second_row  2  4  6\n",
      "a    2\n",
      "b    4\n",
      "c    6\n",
      "Name: second_row, dtype: int64\n",
      "col_a    1\n",
      "col_b    a\n",
      "Name: 0, dtype: object\n",
      "col_a    1\n",
      "col_b    a\n",
      "Name: 0, dtype: object\n",
      "            a  b  c\n",
      "first_row   1  3  5\n",
      "second_row  2  4  6\n",
      "a    1\n",
      "b    3\n",
      "c    5\n",
      "Name: first_row, dtype: int64\n",
      "a    1\n",
      "b    3\n",
      "c    5\n",
      "Name: first_row, dtype: int64\n",
      "   col_a col_b\n",
      "0      1     a\n",
      "1    200   200\n",
      "2      3     c\n",
      "0      1\n",
      "1    200\n",
      "Name: col_a, dtype: int64\n",
      "   col_a col_b\n",
      "0      1     a\n",
      "1    200   200\n",
      "            a  b  c\n",
      "first_row   1  3  5\n",
      "second_row  2  4  6\n",
      "            a  b\n",
      "first_row   1  3\n",
      "second_row  2  4\n",
      "            a  b\n",
      "first_row   1  3\n",
      "second_row  2  4\n",
      "            a  b\n",
      "first_row   1  3\n",
      "second_row  2  4\n",
      "            a  b\n",
      "first_row   1  3\n",
      "second_row  2  4\n",
      "            a  b  c\n",
      "first_row   1  3  5\n",
      "second_row  2  4  6\n",
      "            a  b  c\n",
      "first_row   1  3  5\n",
      "second_row  2  4  6\n",
      "            a  b  c\n",
      "first_row   1  3  5\n",
      "second_row  2  4  6\n",
      "4\n",
      "4\n",
      "<class 'numpy.int64'>\n",
      "<class 'numpy.int64'>\n",
      "4\n",
      "4\n",
      "            a  b  c\n",
      "second_row  2  4  6\n",
      "             a  b  c\n",
      "first_row  NaN  3  5\n",
      "second_row NaN  4  6\n"
     ]
    }
   ],
   "source": [
    "# Accessing values in a DataFrame\n",
    "\n",
    "test_df = pd.DataFrame({\"col_a\": [1, 2, 3], \"col_b\": [\"a\", \"b\", \"c\"]})\n",
    "\n",
    "# Output a single column selected by its name\n",
    "print(test_df[\"col_a\"]) \n",
    "\n",
    "# Output multiple columns selected by their name (provide a list)\n",
    "print(test_df[[\"col_a\", \"col_b\"]]) \n",
    "\n",
    "# Accessing rows using the .loc[] attribute\n",
    "print(test_df.loc[0]) # col_a    1, col_b    a\n",
    "print(test_df.loc[1]) # col_a    2, col_b    b\n",
    "print(test_df.loc[2]) # col_a    3, col_b    c\n",
    "\n",
    "# The loc attribute can be used for setting values\n",
    "test_df.loc[1] = 200\n",
    "print(test_df)\n",
    "\n",
    "# Returning multiple rows\n",
    "print(test_df.loc[1:2])\n",
    "\n",
    "# Accessing labelled rows\n",
    "print(my_df_labels)\n",
    "print(my_df_labels.loc[\"second_row\"])\n",
    "\n",
    "# Using the .iloc[] attribute\n",
    "print(test_df.iloc[0])\n",
    "print(test_df.loc[0])\n",
    "\n",
    "# loc vs iloc\n",
    "print(my_df_labels)\n",
    "print(my_df_labels.loc[\"first_row\"])\n",
    "print(my_df_labels.iloc[0])\n",
    "\n",
    "# Using two arguments in .loc[] attribute\n",
    "print(test_df)\n",
    "print(test_df.loc[0:1, \"col_a\"])         # Returns a Series\n",
    "print(test_df.loc[0:1, \"col_a\":\"col_b\"]) # Returns a DataFrame\n",
    "\n",
    "print(my_df_labels)\n",
    "print(my_df_labels.loc[\"first_row\":\"second_row\", \"a\":\"b\"])\n",
    "# is the same as:\n",
    "print(my_df_labels.iloc[0:2, 0:2])\n",
    "\n",
    "# You can use semicolons or provide lists as first two arguments\n",
    "print(my_df_labels.iloc[0:2, 0:2])\n",
    "# is the same as:\n",
    "print(my_df_labels.iloc[[0, 1], [0, 1]])\n",
    "\n",
    "print(my_df_labels)\n",
    "print(my_df_labels.iloc[[0, 1], :])\n",
    "print(my_df_labels.iloc[[0, 1], ])\n",
    "\n",
    "# What are .at[] and .iat[] attributes?\n",
    "print(my_df_labels.iloc[1, 1])\n",
    "print(my_df_labels.iat[1, 1])\n",
    "\n",
    "print(type(my_df_labels.iloc[1, 1]))\n",
    "print(type(my_df_labels.iat[1, 1]))\n",
    "\n",
    "# at\n",
    "print(my_df_labels.at[\"second_row\", \"b\"])\n",
    "\n",
    "# iat\n",
    "print(my_df_labels.iat[1, 1])\n",
    "\n",
    "# Using logic inside the square bracket notation\n",
    "print(my_df_labels[my_df_labels[\"a\"] == 2])\n",
    "print(my_df_labels[my_df_labels > 2])\n",
    "\n",
    "# Can we add a new row with simple assignment?\n",
    "print()"
   ]
  },
  {
   "cell_type": "code",
   "execution_count": 163,
   "id": "882fd5c1",
   "metadata": {},
   "outputs": [
    {
     "name": "stdout",
     "output_type": "stream",
     "text": [
      "   col_a col_b\n",
      "0      1     a\n",
      "1    200   200\n",
      "2      3     c\n",
      "0      4     d\n",
      "0      4     d\n",
      "0      4     d\n",
      "0      4     d\n",
      "0      4     d\n",
      "0      4     d\n",
      "0      4     d\n",
      "0      4     d\n",
      "0      4     d\n",
      "0      4     d\n",
      "0      4     d\n",
      "0      4     d\n",
      "0      4     d\n",
      "0      4     d\n",
      "0      4     d\n",
      "1      8     e\n",
      "0      4     d\n",
      "1      8     e\n",
      "   col_a col_b\n",
      "0      1     a\n",
      "1    200   200\n",
      "2      3     c\n",
      "0      4     d\n",
      "0      4     d\n",
      "0      4     d\n",
      "0      4     d\n",
      "0      4     d\n",
      "0      4     d\n",
      "0      4     d\n",
      "0      4     d\n",
      "0      4     d\n",
      "0      4     d\n",
      "0      4     d\n",
      "0      4     d\n",
      "0      4     d\n",
      "0      4     d\n",
      "0      4     d\n",
      "1      8     e\n",
      "0      4     d\n",
      "1      8     e\n",
      "0      4     d\n",
      "1      8     e\n",
      "   col_a col_b\n",
      "0      1     a\n",
      "1    200   200\n",
      "2      3     c\n",
      "0      4     d\n",
      "0      4     d\n",
      "0      4     d\n",
      "0      4     d\n",
      "0      4     d\n",
      "0      4     d\n",
      "0      4     d\n",
      "0      4     d\n",
      "0      4     d\n",
      "0      4     d\n",
      "0      4     d\n",
      "0      4     d\n",
      "0      4     d\n",
      "0      4     d\n",
      "0      4     d\n",
      "1      8     e\n",
      "0      4     d\n",
      "1      8     e\n",
      "0      4     d\n",
      "1      8     e\n",
      "            a  b  c\n",
      "first_row   1  3  5\n",
      "second_row  2  4  6\n",
      "third_row   3  5  7\n",
      "            a  b  c\n",
      "first_row   1  3  5\n",
      "second_row  2  4  6\n",
      "third_row   3  5  7\n",
      "   col_a col_b col_c  col_d\n",
      "0      4     d  True      1\n",
      "1      8     e   NaN      2\n"
     ]
    }
   ],
   "source": [
    "# Data Manipulation\n",
    "\n",
    "# Adding a row to a DataTable\n",
    "print(test_df)\n",
    "\n",
    "n_row = pd.DataFrame({\"col_a\": [4, 8], \"col_b\": [\"d\", \"e\"]})\n",
    "\n",
    "new_df = pd.concat([test_df, n_row])\n",
    "print(new_df)\n",
    "\n",
    "test_df = pd.concat([test_df, n_row])\n",
    "print(test_df)\n",
    "\n",
    "# Can we add a new row with simple assignment? Yes\n",
    "print(my_df_labels)\n",
    "\n",
    "my_df_labels.loc[\"third_row\"] = {\"a\":3, \"b\":5, \"c\":7}\n",
    "print(my_df_labels)\n",
    "\n",
    "# Adding a new column to a DataTable\n",
    "n_row[\"col_c\"] = pd.DataFrame({\"col_c\": [True]})\n",
    "n_row[\"col_d\"] = 100\n",
    "n_row[\"col_d\"] = [1, 2]\n",
    "print(n_row)"
   ]
  },
  {
   "cell_type": "code",
   "execution_count": 169,
   "id": "b562930d",
   "metadata": {},
   "outputs": [
    {
     "name": "stdout",
     "output_type": "stream",
     "text": [
      "  Person  Age  Weight  Height\n",
      "0    Bob   32      75     180\n",
      "1  Alice   24      66     175\n",
      "2  Steve   64     102     165\n",
      "  Person variable  value\n",
      "0    Bob      Age     32\n",
      "1  Alice      Age     24\n",
      "2  Steve      Age     64\n",
      "3    Bob   Weight     75\n",
      "4  Alice   Weight     66\n",
      "5  Steve   Weight    102\n",
      "6    Bob   Height    180\n",
      "7  Alice   Height    175\n",
      "8  Steve   Height    165\n"
     ]
    }
   ],
   "source": [
    "# Data Manipulation: From wide to narrow format\n",
    "\n",
    "df_wide = pd.DataFrame({\"Person\": [\"Bob\", \"Alice\", \"Steve\"], \"Age\": [32, 24, 64], \"Weight\": [75, 66, 102], \"Height\": [180, 175, 165]})\n",
    "print(df_wide)\n",
    "\n",
    "print(pd.melt(df_wide, id_vars = \"Person\"))"
   ]
  },
  {
   "cell_type": "code",
   "execution_count": 176,
   "id": "99371d37",
   "metadata": {},
   "outputs": [
    {
     "name": "stdout",
     "output_type": "stream",
     "text": [
      "         Value              \n",
      "Variable   Age Height Weigth\n",
      "Person                      \n",
      "Alice       24    175     66\n",
      "Bob         32    180     75\n",
      "Steve       64    165    102\n"
     ]
    }
   ],
   "source": [
    "# Data Manipulation: From narrow to wide\n",
    "df_narrow = pd.DataFrame({\"Person\": [\"Bob\", \"Bob\", \"Bob\", \"Alice\", \"Alice\", \"Alice\", \"Steve\", \"Steve\", \"Steve\"],\n",
    "                         \"Variable\": [\"Age\", \"Weigth\", \"Height\", \"Age\", \"Weigth\", \"Height\", \"Age\", \"Weigth\", \"Height\"],\n",
    "                         \"Value\": [32, 75, 180, 24, 66, 175, 64, 102, 165]})\n",
    "#print(df_narrow)\n",
    "\n",
    "print(df_narrow.pivot(index = [\"Person\"], columns = [\"Variable\"], values = [\"Value\"]))"
   ]
  },
  {
   "cell_type": "code",
   "execution_count": 208,
   "id": "f9b3c747",
   "metadata": {},
   "outputs": [
    {
     "name": "stdout",
     "output_type": "stream",
     "text": [
      "  var_1  var_2\n",
      "0     A      1\n",
      "1     B      2\n",
      "2     C      3\n",
      "\n",
      "  var_1  var_3\n",
      "0     A   True\n",
      "1     B  False\n",
      "2     D   True\n",
      "\n"
     ]
    }
   ],
   "source": [
    "# Defining sample data frames for join operations\n",
    "\n",
    "df_1 = pd.DataFrame({\"var_1\": [\"A\", \"B\", \"C\"], \"var_2\": [1, 2, 3]})\n",
    "df_2 = pd.DataFrame({\"var_1\": [\"A\", \"B\", \"D\"], \"var_3\": [True, False, True]})\n",
    "\n",
    "print(df_1)\n",
    "print(\n",
    ")\n",
    "print(df_2)\n",
    "print(\n",
    ")\n"
   ]
  },
  {
   "cell_type": "code",
   "execution_count": 209,
   "id": "0ea0c019",
   "metadata": {},
   "outputs": [
    {
     "name": "stdout",
     "output_type": "stream",
     "text": [
      "  var_1  var_2  var_3\n",
      "0     A      1   True\n",
      "1     B      2  False\n"
     ]
    }
   ],
   "source": [
    "# Inner join\n",
    "\n",
    "print(pd.merge(df_1, df_2, how = \"inner\", on = \"var_1\")) # on parameter is optional it asks for a shared variable\n",
    "#"
   ]
  },
  {
   "cell_type": "code",
   "execution_count": 210,
   "id": "9d119619",
   "metadata": {},
   "outputs": [
    {
     "name": "stdout",
     "output_type": "stream",
     "text": [
      "  var_1  var_2  var_3\n",
      "0     A      1   True\n",
      "1     B      2  False\n",
      "2     C      3    NaN\n"
     ]
    }
   ],
   "source": [
    "# Left (Outer) join\n",
    "print(pd.merge(df_1, df_2, how = \"left\"))\n",
    "#"
   ]
  },
  {
   "cell_type": "code",
   "execution_count": 213,
   "id": "961eae72",
   "metadata": {},
   "outputs": [
    {
     "name": "stdout",
     "output_type": "stream",
     "text": [
      "  var_1  var_2  var_3\n",
      "0     A    1.0   True\n",
      "1     B    2.0  False\n",
      "2     D    NaN   True\n"
     ]
    }
   ],
   "source": [
    "# Right (Outer) join\n",
    "print(pd.merge(df_1, df_2, how = \"right\"))\n",
    "#"
   ]
  },
  {
   "cell_type": "code",
   "execution_count": 212,
   "id": "17503d5e",
   "metadata": {},
   "outputs": [
    {
     "name": "stdout",
     "output_type": "stream",
     "text": [
      "  var_1  var_2  var_3\n",
      "0     A    1.0   True\n",
      "1     B    2.0  False\n",
      "2     C    3.0    NaN\n",
      "3     D    NaN   True\n"
     ]
    }
   ],
   "source": [
    "# Full (Outer) join\n",
    "print(pd.merge(df_1, df_2, how = \"outer\"))\n",
    "#"
   ]
  },
  {
   "cell_type": "code",
   "execution_count": null,
   "id": "4983fc61",
   "metadata": {},
   "outputs": [],
   "source": []
  }
 ],
 "metadata": {
  "kernelspec": {
   "display_name": "Python 3 (ipykernel)",
   "language": "python",
   "name": "python3"
  },
  "language_info": {
   "codemirror_mode": {
    "name": "ipython",
    "version": 3
   },
   "file_extension": ".py",
   "mimetype": "text/x-python",
   "name": "python",
   "nbconvert_exporter": "python",
   "pygments_lexer": "ipython3",
   "version": "3.9.12"
  }
 },
 "nbformat": 4,
 "nbformat_minor": 5
}
